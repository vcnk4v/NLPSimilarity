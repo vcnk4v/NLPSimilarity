{
 "cells": [
  {
   "cell_type": "code",
   "execution_count": 1,
   "metadata": {},
   "outputs": [
    {
     "name": "stderr",
     "output_type": "stream",
     "text": [
      "/home/vyakhya/.local/lib/python3.10/site-packages/tqdm/auto.py:21: TqdmWarning: IProgress not found. Please update jupyter and ipywidgets. See https://ipywidgets.readthedocs.io/en/stable/user_install.html\n",
      "  from .autonotebook import tqdm as notebook_tqdm\n",
      "[nltk_data] Downloading package stopwords to\n",
      "[nltk_data]     /home/vyakhya/nltk_data...\n",
      "[nltk_data]   Package stopwords is already up-to-date!\n"
     ]
    }
   ],
   "source": [
    "import spacy\n",
    "# python3 -m spacy download en_core_web_sm\n",
    "nlp = spacy.load(\"en_core_web_sm\")\n",
    "# %pip install datasets\n",
    "import numpy as np\n",
    "from gensim.models import KeyedVectors\n",
    "from sklearn.ensemble import RandomForestClassifier\n",
    "from sklearn.metrics import accuracy_score\n",
    "from sklearn.model_selection import train_test_split\n",
    "import nltk\n",
    "from nltk.corpus import stopwords\n",
    "import datasets\n",
    "nltk.download('stopwords')\n",
    "from datasets import load_dataset"
   ]
  },
  {
   "cell_type": "code",
   "execution_count": 2,
   "metadata": {},
   "outputs": [],
   "source": [
    "dataset = load_dataset(\"paws\", \"labeled_final\")\n",
    "# Access train, dev, and test splits\n",
    "train_data = dataset[\"train\"]\n",
    "dev_data = dataset[\"validation\"]\n",
    "test_data = dataset[\"test\"]"
   ]
  },
  {
   "cell_type": "code",
   "execution_count": 3,
   "metadata": {},
   "outputs": [],
   "source": [
    "def preprocess_sentence(sentence):\n",
    "    # Tokenize the sentence using SpaCy\n",
    "    doc = nlp(sentence)\n",
    "    \n",
    "    # Lemmatize tokens and remove stopwords\n",
    "    tokens = [token.lemma_.lower() for token in doc if not token.is_stop and not token.is_punct]\n",
    "    \n",
    "    return tokens\n",
    "\n"
   ]
  },
  {
   "cell_type": "code",
   "execution_count": null,
   "metadata": {},
   "outputs": [],
   "source": [
    "i = 0\n",
    "len_tr = len(train_data)\n",
    "# Preprocess the sentences in the train split\n",
    "train_data_preprocessed = []\n",
    "for example in train_data:\n",
    "    i+=1\n",
    "    if(i>len_tr//2):\n",
    "        break\n",
    "    example[\"preprocessed_sentence1\"] = preprocess_sentence(example[\"sentence1\"])\n",
    "    example[\"preprocessed_sentence2\"] = preprocess_sentence(example[\"sentence2\"])\n",
    "    train_data_preprocessed.append(example)\n",
    "\n",
    "# Preprocess the sentences in the dev split\n",
    "dev_data_preprocessed = []\n",
    "for example in dev_data:\n",
    "    example[\"preprocessed_sentence1\"] = preprocess_sentence(example[\"sentence1\"])\n",
    "    example[\"preprocessed_sentence2\"] = preprocess_sentence(example[\"sentence2\"])\n",
    "    dev_data_preprocessed.append(example)\n"
   ]
  },
  {
   "cell_type": "code",
   "execution_count": 4,
   "metadata": {},
   "outputs": [],
   "source": [
    "\n",
    "# Preprocess the sentences in the test split\n",
    "test_data_preprocessed = []\n",
    "for example in test_data:\n",
    "    example[\"preprocessed_sentence1\"] = preprocess_sentence(example[\"sentence1\"])\n",
    "    example[\"preprocessed_sentence2\"] = preprocess_sentence(example[\"sentence2\"])\n",
    "    test_data_preprocessed.append(example)\n"
   ]
  },
  {
   "cell_type": "code",
   "execution_count": 5,
   "metadata": {},
   "outputs": [],
   "source": [
    "import gensim\n",
    "\n",
    "def tagged_document(list_of_words, idx):\n",
    "    return gensim.models.doc2vec.TaggedDocument(list_of_words, [idx])"
   ]
  },
  {
   "cell_type": "code",
   "execution_count": null,
   "metadata": {},
   "outputs": [],
   "source": [
    "# Create TaggedDocument objects for each pair of sentences in the train split\n",
    "train_tagged_data = []\n",
    "for idx, example in enumerate(train_data_preprocessed):\n",
    "    sentence1 = example[\"preprocessed_sentence1\"]\n",
    "    sentence2 = example[\"preprocessed_sentence2\"]\n",
    "    tagged_doc1 = tagged_document(sentence1, idx)\n",
    "    tagged_doc2 = tagged_document(sentence2, idx)\n",
    "    train_tagged_data.extend([tagged_doc1, tagged_doc2])\n",
    "\n",
    "# Create TaggedDocument objects for each pair of sentences in the dev split\n",
    "dev_tagged_data = []\n",
    "for idx, example in enumerate(dev_data_preprocessed):\n",
    "    sentence1 = example[\"preprocessed_sentence1\"]\n",
    "    sentence2 = example[\"preprocessed_sentence2\"]\n",
    "    tagged_doc1 = tagged_document(sentence1, idx)\n",
    "    tagged_doc2 = tagged_document(sentence2, idx)\n",
    "    dev_tagged_data.extend([tagged_doc1, tagged_doc2])"
   ]
  },
  {
   "cell_type": "code",
   "execution_count": 6,
   "metadata": {},
   "outputs": [],
   "source": [
    "# Create TaggedDocument objects for each pair of sentences in the test split\n",
    "test_tagged_data = []\n",
    "for idx, example in enumerate(test_data_preprocessed):\n",
    "    sentence1 = example[\"preprocessed_sentence1\"]\n",
    "    sentence2 = example[\"preprocessed_sentence2\"]\n",
    "    tagged_doc1 = tagged_document(sentence1, idx)\n",
    "    tagged_doc2 = tagged_document(sentence2, idx)\n",
    "    test_tagged_data.extend([tagged_doc1, tagged_doc2])"
   ]
  },
  {
   "cell_type": "code",
   "execution_count": 7,
   "metadata": {},
   "outputs": [],
   "source": [
    "vector_size = 300  \n",
    "epochs = 30\n",
    "model = gensim.models.doc2vec.Doc2Vec(vector_size=vector_size, epochs=epochs)\n",
    "model.build_vocab(train_tagged_data)\n",
    "model.train(train_tagged_data, total_examples=model.corpus_count, epochs=model.epochs)\n",
    "model.save(\"models/doc2vecsent\")"
   ]
  },
  {
   "cell_type": "code",
   "execution_count": 7,
   "metadata": {},
   "outputs": [],
   "source": [
    "model_path = \"models/doc2vecsent\"\n",
    "loaded_model = gensim.models.doc2vec.Doc2Vec.load(model_path)\n",
    "# Function to compute similarity between two sentences\n"
   ]
  },
  {
   "cell_type": "code",
   "execution_count": 8,
   "metadata": {},
   "outputs": [],
   "source": [
    "# Convert test_data to pandas DataFrame\n",
    "import pandas as pd\n",
    "test_df = pd.DataFrame(test_data_preprocessed)\n",
    "\n",
    "# # Preprocess the sentences in the test set\n",
    "# test_df['preprocessed_sentence1'] = test_df['sentence1'].apply(preprocess_sentence)\n",
    "# test_df['preprocessed_sentence2'] = test_df['sentence2'].apply(preprocess_sentence)\n"
   ]
  },
  {
   "cell_type": "code",
   "execution_count": 9,
   "metadata": {},
   "outputs": [
    {
     "name": "stdout",
     "output_type": "stream",
     "text": [
      "Accuracy on the test set: 0.44675\n"
     ]
    }
   ],
   "source": [
    "\n",
    "from sklearn.metrics.pairwise import cosine_similarity\n",
    "model=loaded_model\n",
    "# Function to compute similarity between two sentences\n",
    "def compute_similarity(sentence1, sentence2):\n",
    "    vector1 = model.infer_vector(sentence1)\n",
    "    vector2 = model.infer_vector(sentence2)\n",
    "    similarity_score = cosine_similarity([vector1], [vector2])[0][0]\n",
    "    return similarity_score\n",
    "\n",
    "\n",
    "# Calculate similarity scores for each pair of sentences in the test set\n",
    "test_df['predicted_similarity_score'] = test_df.apply(lambda x: compute_similarity(x['preprocessed_sentence1'], x['preprocessed_sentence2']), axis=1)\n",
    "\n",
    "# Classify based on similarity score\n",
    "test_df['predicted_label'] = test_df['predicted_similarity_score'].apply(lambda x: 1 if x >= 0.5 else 0)\n",
    "\n",
    "# Report Results\n",
    "accuracy = (test_df['predicted_label'] == test_df['label']).mean()\n",
    "print(f\"Accuracy on the test set: {accuracy}\")\n"
   ]
  },
  {
   "cell_type": "code",
   "execution_count": 10,
   "metadata": {},
   "outputs": [],
   "source": [
    "# Load pre-trained word embeddings (Word2Vec)\n",
    "word2vec_model_path_pretrained = 'models/GoogleNews-vectors-negative300.bin.gz'\n",
    "word2vec_model_pretrained = KeyedVectors.load_word2vec_format(word2vec_model_path_pretrained, binary=True)"
   ]
  },
  {
   "cell_type": "code",
   "execution_count": 11,
   "metadata": {},
   "outputs": [
    {
     "name": "stdout",
     "output_type": "stream",
     "text": [
      "Accuracy on the test set: 0.442125\n"
     ]
    }
   ],
   "source": [
    "def get_sentence_embedding(sentence):\n",
    "    embeddings = [word2vec_model_pretrained[word] for word in sentence if word in word2vec_model_pretrained]  # Get word embeddings\n",
    "    if embeddings:\n",
    "        return np.mean(embeddings, axis=0)  # Average the word embeddings to get the sentence embedding\n",
    "    else:\n",
    "        return np.zeros(word2vec_model_pretrained.vector_size)  # Return zeros if no embeddings found\n",
    "\n",
    "def compute_similarity(sentence1, sentence2):\n",
    "    vector1 = get_sentence_embedding(sentence1)\n",
    "    vector2 = get_sentence_embedding(sentence2)\n",
    "    similarity_score = cosine_similarity([vector1], [vector2])[0][0]\n",
    "    return similarity_score\n",
    "\n",
    "# Function to predict sentence similarity\n",
    "def predict_similarity(sentence1, sentence2, threshold=0.5):\n",
    "    # Get embeddings for each sentence\n",
    "    embedding1 = get_sentence_embedding(sentence1)\n",
    "    embedding2 = get_sentence_embedding(sentence2)\n",
    "    \n",
    "    # Calculate cosine similarity between the embeddings\n",
    "    similarity_score = cosine_similarity([embedding1], [embedding2])[0][0]\n",
    "    \n",
    "    # Classify as similar or not based on the threshold\n",
    "    if similarity_score >= threshold:\n",
    "        return 1\n",
    "    else:\n",
    "        return 0\n",
    "test_df['predicted_similarity_score'] = test_df.apply(lambda x: compute_similarity(x['preprocessed_sentence1'], x['preprocessed_sentence2']), axis=1)\n",
    "\n",
    "# Classify based on similarity score\n",
    "test_df['predicted_label'] = test_df['predicted_similarity_score'].apply(lambda x: 1 if x >= 0.5 else 0)\n",
    "\n",
    "# Report Results\n",
    "accuracy = (test_df['predicted_label'] == test_df['label']).mean()\n",
    "print(f\"Accuracy on the test set: {accuracy}\")\n",
    "\n"
   ]
  }
 ],
 "metadata": {
  "kernelspec": {
   "display_name": "Python 3",
   "language": "python",
   "name": "python3"
  },
  "language_info": {
   "codemirror_mode": {
    "name": "ipython",
    "version": 3
   },
   "file_extension": ".py",
   "mimetype": "text/x-python",
   "name": "python",
   "nbconvert_exporter": "python",
   "pygments_lexer": "ipython3",
   "version": "3.10.12"
  }
 },
 "nbformat": 4,
 "nbformat_minor": 2
}
