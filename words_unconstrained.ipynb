{
 "cells": [
  {
   "cell_type": "code",
   "execution_count": 1,
   "metadata": {},
   "outputs": [
    {
     "name": "stdout",
     "output_type": "stream",
     "text": [
      "Defaulting to user installation because normal site-packages is not writeable\n",
      "Requirement already satisfied: pot in /home/vyakhya/.local/lib/python3.10/site-packages (0.9.3)\n",
      "Requirement already satisfied: numpy>=1.16 in /home/vyakhya/.local/lib/python3.10/site-packages (from pot) (1.24.2)\n",
      "Requirement already satisfied: scipy>=1.6 in /home/vyakhya/.local/lib/python3.10/site-packages (from pot) (1.11.1)\n",
      "Note: you may need to restart the kernel to use updated packages.\n"
     ]
    }
   ],
   "source": [
    "import gensim\n",
    "from sklearn.metrics.pairwise import cosine_similarity\n",
    "import numpy as np\n",
    "from gensim.models import KeyedVectors\n",
    "%pip install pot"
   ]
  },
  {
   "cell_type": "code",
   "execution_count": 2,
   "metadata": {},
   "outputs": [],
   "source": [
    "# Define parameters for Word2Vec model training\n",
    "corpus_path = 'data/sv-en/euro.txt'  # Path to your corpus file\n",
    "vector_size = 300  # Dimensionality of word vectors\n",
    "window = 5  # Maximum distance between the current and predicted word within a sentence\n",
    "min_count = 5  # Ignores all words with a total frequency lower than this\n",
    "workers = 4  # Number of threads to use while training\n",
    "\n",
    "# Load and preprocess the corpus\n",
    "class MyCorpus:\n",
    "    def __iter__(self):\n",
    "        with open(corpus_path, 'r', encoding='utf-8') as file:\n",
    "            for line in file:\n",
    "                yield gensim.utils.simple_preprocess(line)\n",
    "\n",
    "# Train the Word2Vec model\n",
    "corpus = MyCorpus()\n",
    "word2vec_model = gensim.models.Word2Vec(\n",
    "    corpus, vector_size=vector_size, window=window, min_count=min_count, workers=workers\n",
    ")\n",
    "\n",
    "# Save the trained Word2Vec model\n",
    "word2vec_model.save('models/word2vec_model_trained')  # Save the model for future use"
   ]
  },
  {
   "cell_type": "code",
   "execution_count": 3,
   "metadata": {},
   "outputs": [
    {
     "name": "stdout",
     "output_type": "stream",
     "text": [
      "Cosine similarity score between 'odd' and 'strange': 0.8188\n"
     ]
    }
   ],
   "source": [
    "# Load the trained Word2Vec model\n",
    "word2vec_model_path = 'models/word2vec_model_trained'  # Path to your trained Word2Vec model\n",
    "word2vec_model = gensim.models.Word2Vec.load(word2vec_model_path)\n",
    "\n",
    "def word_similarity(word1, word2, word_embeddings):\n",
    "    if word1 in word_embeddings.wv.key_to_index and word2 in word_embeddings.wv.key_to_index:\n",
    "        # If both words are in vocabulary, compute similarity\n",
    "        vector1 = word_embeddings.wv[word1].reshape(1, -1)\n",
    "        vector2 = word_embeddings.wv[word2].reshape(1, -1)\n",
    "        similarity_score = cosine_similarity(vector1, vector2)[0][0]\n",
    "        return similarity_score\n",
    "    else:\n",
    "        # If any word is not in vocabulary, return -1\n",
    "        return -1\n",
    "\n",
    "# Example usage\n",
    "word1 = \"odd\"\n",
    "word2 = \"strange\"\n",
    "similarity_score = word_similarity(word1, word2, word2vec_model)\n",
    "if similarity_score is not None:\n",
    "    print(\"Cosine similarity score between '{}' and '{}': {:.4f}\".format(word1, word2, similarity_score))\n",
    "else:\n",
    "    print(\"One or both words not found in vocabulary.\")"
   ]
  },
  {
   "cell_type": "code",
   "execution_count": 5,
   "metadata": {},
   "outputs": [
    {
     "name": "stdout",
     "output_type": "stream",
     "text": [
      "Spearman correlation between model predictions and SimLex-999 ratings: 0.2823628305677262\n"
     ]
    }
   ],
   "source": [
    "# Read the SimLex-999 test set file\n",
    "simlex_path = \"data/SimLex-999/SimLex-999.txt\"  # Replace with the actual path to your SimLex-999 file\n",
    "simlex_data = []\n",
    "with open(simlex_path, 'r') as file:\n",
    "    next(file)  # Skip the header row\n",
    "    for line in file:\n",
    "        line_data = line.strip().split(\"\\t\")\n",
    "        simlex_data.append(line_data)\n",
    "\n",
    "\n",
    "# Extract relevant columns (word1, word2, SimLex999)\n",
    "word_pairs = [(row[0], row[1]) for row in simlex_data]\n",
    "simlex_ratings = [float(row[3]) for row in simlex_data]\n",
    "simlex_ratings = [rating for rating in simlex_ratings]\n",
    "# Calculate similarity scores using your model\n",
    "model_similarities = []\n",
    "filtered_simlex_ratings = []  # To store ratings for pairs with valid similarity scores\n",
    "for pair, rating in zip(word_pairs, simlex_ratings):\n",
    "    word1, word2 = pair\n",
    "    # Calculate similarity score using your model (replace this with your actual model code)\n",
    "    similarity_score = word_similarity(word1, word2, word2vec_model)\n",
    "    if similarity_score != -1:\n",
    "        model_similarities.append(similarity_score * 10)\n",
    "        filtered_simlex_ratings.append(rating)\n",
    "\n",
    "# Evaluate the model\n",
    "from scipy.stats import spearmanr\n",
    "spearman_correlation, _ = spearmanr(filtered_simlex_ratings, model_similarities)\n",
    "print(\"Spearman correlation between model predictions and SimLex-999 ratings:\", spearman_correlation)\n"
   ]
  },
  {
   "cell_type": "code",
   "execution_count": 26,
   "metadata": {},
   "outputs": [
    {
     "data": {
      "image/png": "[encoded data removed]",
      "text/plain": [
       "<Figure size 600x400 with 1 Axes>"
      ]
     },
     "metadata": {},
     "output_type": "display_data"
    }
   ],
   "source": [
    "import matplotlib.pyplot as plt\n",
    "import pandas as pd\n",
    "import seaborn as sns\n",
    "# Histogram of Residuals\n",
    "residuals = [simlex_rating - model_similarity for simlex_rating, model_similarity in zip(filtered_simlex_ratings, model_similarities)]\n",
    "plt.figure(figsize=(6, 4))\n",
    "plt.hist(residuals, bins=20, edgecolor='black')\n",
    "plt.xlabel('Residuals (SimLex-999 - Model Predictions)')\n",
    "plt.ylabel('Frequency')\n",
    "plt.title('Histogram of Residuals')\n",
    "plt.grid(True)\n",
    "plt.show()\n",
    "\n",
    "from scipy.stats import pearsonr\n",
    "\n",
    "# Calculate the Pearson correlation coefficient and p-value\n",
    "correlation_coefficient, p_value = pearsonr(filtered_simlex_ratings, model_similarities)\n"
   ]
  }
 ],
 "metadata": {
  "kernelspec": {
   "display_name": "Python 3",
   "language": "python",
   "name": "python3"
  },
  "language_info": {
   "codemirror_mode": {
    "name": "ipython",
    "version": 3
   },
   "file_extension": ".py",
   "mimetype": "text/x-python",
   "name": "python",
   "nbconvert_exporter": "python",
   "pygments_lexer": "ipython3",
   "version": "3.10.12"
  }
 },
 "nbformat": 4,
 "nbformat_minor": 2
}
