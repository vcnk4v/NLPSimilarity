{
 "cells": [
  {
   "cell_type": "code",
   "execution_count": null,
   "metadata": {},
   "outputs": [],
   "source": [
    "%pip install -U sentence-transformers\n",
    "\n",
    "from sentence_transformers import SentenceTransformer, util\n"
   ]
  },
  {
   "cell_type": "code",
   "execution_count": 13,
   "metadata": {},
   "outputs": [],
   "source": [
    "from datasets import load_dataset\n",
    "dataset = load_dataset(\"PiC/phrase_similarity\")\n",
    "train_data = dataset[\"train\"]\n",
    "validation_dataset = dataset[\"validation\"]\n",
    "test_data = dataset[\"test\"]"
   ]
  },
  {
   "cell_type": "code",
   "execution_count": 17,
   "metadata": {},
   "outputs": [],
   "source": [
    "model = SentenceTransformer('sentence-transformers/all-MiniLM-L6-v2')"
   ]
  },
  {
   "cell_type": "code",
   "execution_count": 20,
   "metadata": {},
   "outputs": [
    {
     "name": "stdout",
     "output_type": "stream",
     "text": [
      "Accuracy: 0.5055\n"
     ]
    }
   ],
   "source": [
    "predictions_cosine = []\n",
    "\n",
    "for example in test_data:\n",
    "    phrase1 = example[\"phrase1\"]\n",
    "    phrase2 = example[\"phrase2\"]\n",
    "    similarity_label = example[\"label\"]\n",
    "    #Compute embedding for both lists\n",
    "    embedding_1= model.encode(phrase1, convert_to_tensor=True)\n",
    "    embedding_2 = model.encode(phrase2, convert_to_tensor=True)\n",
    "    prediction = util.pytorch_cos_sim(embedding_1, embedding_2)\n",
    "    if prediction > 0.7:\n",
    "        prediction = 1\n",
    "    else:\n",
    "        prediction = 0\n",
    "    predictions_cosine.append((phrase1, phrase2, similarity_label, prediction))\n",
    "\n",
    "\n",
    "# Compute accuracy\n",
    "correct_predictions = sum(1 for _, _, label, pred in predictions_cosine if label == pred)\n",
    "total_predictions = len(predictions_cosine)\n",
    "accuracy = correct_predictions / total_predictions\n",
    "print(f\"Accuracy: {accuracy}\")"
   ]
  }
 ],
 "metadata": {
  "kernelspec": {
   "display_name": "Python 3",
   "language": "python",
   "name": "python3"
  },
  "language_info": {
   "name": "python",
   "version": "3.10.12"
  }
 },
 "nbformat": 4,
 "nbformat_minor": 2
}
